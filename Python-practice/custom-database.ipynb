{
 "cells": [
  {
   "cell_type": "code",
   "execution_count": 9,
   "metadata": {},
   "outputs": [
    {
     "name": "stdout",
     "output_type": "stream",
     "text": [
      "[100000, 90000]\n",
      "190000\n"
     ]
    }
   ],
   "source": [
    "john_data = {\n",
    "    \"first_name\": \"John\",\n",
    "    \"last_name\": \"Doe\",\n",
    "    \"age\": 34,\n",
    "    \"salary\": 100_000, \n",
    "}\n",
    "jane_data = {\n",
    "    \"first_name\": \"Jane\",\n",
    "    \"last_name\": \"Doe\",\n",
    "    \"age\": 32,\n",
    "    \"salary\": 90_000, \n",
    "}\n",
    "employee_data = {\n",
    "    \"John Doe\": john_data,\n",
    "    \"Jane Doe\": jane_data\n",
    "}\n",
    "\n",
    "# Pythonic list below.\n",
    "expenses = [employee_data[employee][\"salary\"] for employee in employee_data]\n",
    "print(expenses)\n",
    "\n",
    "#Pythonic sum below.\n",
    "total_expenses = sum(expenses)\n",
    "print(total_expenses)"
   ]
  }
 ],
 "metadata": {
  "kernelspec": {
   "display_name": "base",
   "language": "python",
   "name": "python3"
  },
  "language_info": {
   "codemirror_mode": {
    "name": "ipython",
    "version": 3
   },
   "file_extension": ".py",
   "mimetype": "text/x-python",
   "name": "python",
   "nbconvert_exporter": "python",
   "pygments_lexer": "ipython3",
   "version": "3.11.5"
  }
 },
 "nbformat": 4,
 "nbformat_minor": 2
}
